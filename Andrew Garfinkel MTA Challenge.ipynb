{
 "cells": [
  {
   "cell_type": "markdown",
   "metadata": {},
   "source": [
    "# Andrew Garfinkel MTA Data Assesment "
   ]
  },
  {
   "cell_type": "markdown",
   "metadata": {},
   "source": [
    "# Import Libraries \n"
   ]
  },
  {
   "cell_type": "code",
   "execution_count": 5,
   "metadata": {
    "collapsed": true
   },
   "outputs": [],
   "source": [
    "import requests\n",
    "import time\n",
    "from bs4 import BeautifulSoup\n",
    "import pandas as pd"
   ]
  },
  {
   "cell_type": "markdown",
   "metadata": {},
   "source": [
    "# Ingest Data "
   ]
  },
  {
   "cell_type": "markdown",
   "metadata": {},
   "source": [
    "## Ingest Station Data\n",
    "Ingest the Remote-Booth-Station mapping file. This file allows us to join the relevant station information with the turnstile information. "
   ]
  },
  {
   "cell_type": "code",
   "execution_count": 6,
   "metadata": {
    "collapsed": true
   },
   "outputs": [],
   "source": [
    "stations = pd.read_excel ('http://web.mta.info/developers/resources/nyct/turnstile/Remote-Booth-Station.xls')"
   ]
  },
  {
   "cell_type": "markdown",
   "metadata": {},
   "source": [
    "## Ingest Current Data (New Schema)\n",
    "Ingest the most current data to analyze the current number of units per station. This data set uses the 'new' schema."
   ]
  },
  {
   "cell_type": "code",
   "execution_count": 7,
   "metadata": {
    "collapsed": true
   },
   "outputs": [],
   "source": [
    "#grabbing current data for first question \n",
    "current_data_url='http://web.mta.info/developers/data/nyct/turnstile/turnstile_210522.txt'\n",
    "current_data = pd.read_csv(current_data_url, sep=\",\")\n",
    "#creating date time field \n",
    "current_data[\"DATETIME\"] = pd.to_datetime(current_data[\"DATE\"].apply(str) +' '+ current_data[\"TIME\"])\n",
    "#cleaning up column name in case you want to union the new schema with old schema \n",
    "current_data.columns=[col.strip() for col in current_data.columns]"
   ]
  },
  {
   "cell_type": "markdown",
   "metadata": {},
   "source": [
    "## Ingest 2013 Data (Old Schema) \n",
    "Ingest the data from 2013 to analyze historical data. We're also going to grab the last files from 2012 and the first file from 2013 so that we have a complete data set and the historical context to calculate the difference in 'odometer' readings. \n",
    "### Retrieve list of relevant URLs to ingest  \n",
    "Retrieve a list of relevant URLs for the text files that we want to read into a dataframe."
   ]
  },
  {
   "cell_type": "code",
   "execution_count": 8,
   "metadata": {
    "collapsed": true
   },
   "outputs": [],
   "source": [
    "#retrieve list of urls needed for 2013, including the last week of 2012 and the first week of 2014 \n",
    "URL = 'http://web.mta.info/developers/turnstile.html'\n",
    "page = requests.get(URL)\n",
    "soup = BeautifulSoup(page.content, 'html.parser')\n",
    "files = soup.find(id='contentbox').findAll('a')\n",
    "thirteen_data=[]\n",
    "for i in files: \n",
    "    link=i.get('href',None)\n",
    "    if 'data' in str(link):\n",
    "        date=int(link[-10:-4])\n",
    "        if date>=121229 and date<=140104:\n",
    "            thirteen_data.append(link)"
   ]
  },
  {
   "cell_type": "markdown",
   "metadata": {},
   "source": [
    "### Ingest historical data from URLs\n",
    "Ingest historical data from relevant URLs. "
   ]
  },
  {
   "cell_type": "code",
   "execution_count": 9,
   "metadata": {
    "collapsed": true
   },
   "outputs": [],
   "source": [
    "thirteen_df=[]\n",
    "for i in thirteen_data: \n",
    "    target_url=f'http://web.mta.info/developers/{i}'\n",
    "    #give the function a little nap as to not overwhelm the MTA servers \n",
    "    time.sleep(1)\n",
    "    namelist=['C/A','UNIT','SCP','DATE1','TIME1','DESC1','ENTRIES1','EXITS1','DATE2','TIME2','DESC2','ENTRIES2','EXITS2','DATE3','TIME3','DESC3','ENTRIES3','EXITS3','DATE4','TIME4','DESC4','ENTRIES4','EXITS4','DATE5','TIME5','DESC5','ENTRIES5','EXITS5','DATE6','TIME6','DESC6','ENTRIES6','EXITS6','DATE7','TIME7','DESC7','ENTRIES7','EXITS7','DATE8','TIME8','DESC8','ENTRIES8','EXITS8']\n",
    "    thirteen_list = pd.read_csv(target_url, sep=\",\",names=namelist)\n",
    "    thirteen_df.append(thirteen_list)\n",
    "thirteen_data_frame = pd.concat(thirteen_df)"
   ]
  },
  {
   "cell_type": "markdown",
   "metadata": {},
   "source": [
    "### Transform the historic data \n",
    "The historic data uses the old schema that creates a wide dataset. We're going to transform this into a narrow dataset that leverages common columns. "
   ]
  },
  {
   "cell_type": "code",
   "execution_count": 10,
   "metadata": {
    "collapsed": true
   },
   "outputs": [],
   "source": [
    "#Unpivot and transforming data\n",
    "thirteen_list=[]\n",
    "for i in range(1,9):\n",
    "    thirteen_narrow = thirteen_data_frame[['C/A','UNIT','SCP',f'DATE{i}',f'TIME{i}',f'DESC{i}',f'ENTRIES{i}',f'EXITS{i}']]\n",
    "    thirteen_narrow=thirteen_narrow.rename(columns={f'DATE{i}':\"DATE\",f'TIME{i}':\"TIME\",f'DESC{i}':\"DESC\",f'ENTRIES{i}':\"ENTRIES\",f'EXITS{i}':\"EXITS\"})\n",
    "    thirteen_list.append(thirteen_narrow)\n",
    "thirteen_list = pd.concat(thirteen_list)"
   ]
  },
  {
   "cell_type": "markdown",
   "metadata": {},
   "source": [
    "### Join in station data \n",
    "Join the Remote-Booth-Station mapping file data into the turnstile data."
   ]
  },
  {
   "cell_type": "code",
   "execution_count": 11,
   "metadata": {
    "collapsed": true
   },
   "outputs": [],
   "source": [
    "#joining in station data \n",
    "merge_df=thirteen_list.merge(stations,how='inner', left_on=['C/A','UNIT'],right_on=['Booth','Remote'])\n",
    "merge_df=merge_df.drop(columns=['Remote','Booth'])\n",
    "merge_df=merge_df.rename(columns={'Station':'STATION','Line Name':\"LINENAME\",'Division':'DIVISION'})\n",
    "merge_df[\"DATETIME\"]=pd.to_datetime(merge_df[\"DATE\"].apply(str) +' '+ merge_df[\"TIME\"])"
   ]
  },
  {
   "cell_type": "markdown",
   "metadata": {},
   "source": [
    "# Clean Data\n",
    "As part of cleaning the data I filtered it to only include regular audit events. Given that the turnstiles function as 'odometer' readings, I calculated the difference between the current and previous reading to arrive at the amount of entries/exits per audit event. I also added a busyness field and relevant date dimensions. Finally, I filtered the data for 2013 as that is the primary scope of this analysis. "
   ]
  },
  {
   "cell_type": "code",
   "execution_count": 12,
   "metadata": {
    "collapsed": true
   },
   "outputs": [],
   "source": [
    "#filter data for regular audit events \n",
    "merge_df=merge_df[(merge_df['DESC']=='REGULAR')]\n",
    "merge_df=merge_df.sort_values(by=['C/A','UNIT','SCP','DATETIME'],ascending=(True,True,True,False))\n",
    "#calculate entry and exit diffs \n",
    "merge_df[\"ENTRYDIFF\"]=merge_df[\"ENTRIES\"].diff(-1)\n",
    "merge_df[\"EXITSDIFF\"]=merge_df[\"EXITS\"].diff(-1)\n",
    "#add busyness column\n",
    "merge_df[\"BUSYNESS\"]=merge_df[\"ENTRYDIFF\"]+merge_df[\"EXITSDIFF\"]\n",
    "merge_df['HOUR']=merge_df['DATETIME'].dt.hour\n",
    "merge_df=merge_df[merge_df['DATETIME'].dt.year==2013]\n",
    "#infer data types \n",
    "merge_df=merge_df.infer_objects()"
   ]
  },
  {
   "cell_type": "markdown",
   "metadata": {},
   "source": [
    "## Profile the data \n",
    "Perform basic profiling to better understand the data and look for the presence of outliers. "
   ]
  },
  {
   "cell_type": "code",
   "execution_count": 13,
   "metadata": {
    "collapsed": false
   },
   "outputs": [
    {
     "data": {
      "text/html": [
       "<div>\n",
       "<style scoped>\n",
       "    .dataframe tbody tr th:only-of-type {\n",
       "        vertical-align: middle;\n",
       "    }\n",
       "\n",
       "    .dataframe tbody tr th {\n",
       "        vertical-align: top;\n",
       "    }\n",
       "\n",
       "    .dataframe thead th {\n",
       "        text-align: right;\n",
       "    }\n",
       "</style>\n",
       "<table border=\"1\" class=\"dataframe\">\n",
       "  <thead>\n",
       "    <tr style=\"text-align: right;\">\n",
       "      <th></th>\n",
       "      <th>ENTRIES</th>\n",
       "      <th>EXITS</th>\n",
       "      <th>ENTRYDIFF</th>\n",
       "      <th>EXITSDIFF</th>\n",
       "      <th>BUSYNESS</th>\n",
       "      <th>HOUR</th>\n",
       "    </tr>\n",
       "  </thead>\n",
       "  <tbody>\n",
       "    <tr>\n",
       "      <td>count</td>\n",
       "      <td>9.784954e+06</td>\n",
       "      <td>9.784954e+06</td>\n",
       "      <td>9.784954e+06</td>\n",
       "      <td>9.784954e+06</td>\n",
       "      <td>9.784954e+06</td>\n",
       "      <td>9.784954e+06</td>\n",
       "    </tr>\n",
       "    <tr>\n",
       "      <td>mean</td>\n",
       "      <td>5.054383e+06</td>\n",
       "      <td>2.914473e+06</td>\n",
       "      <td>8.718158e+02</td>\n",
       "      <td>6.730445e+02</td>\n",
       "      <td>1.544860e+03</td>\n",
       "      <td>1.093903e+01</td>\n",
       "    </tr>\n",
       "    <tr>\n",
       "      <td>std</td>\n",
       "      <td>3.363493e+07</td>\n",
       "      <td>3.318126e+07</td>\n",
       "      <td>1.026176e+06</td>\n",
       "      <td>1.025303e+06</td>\n",
       "      <td>1.639360e+06</td>\n",
       "      <td>6.898596e+00</td>\n",
       "    </tr>\n",
       "    <tr>\n",
       "      <td>min</td>\n",
       "      <td>-9.314769e+08</td>\n",
       "      <td>-8.789650e+08</td>\n",
       "      <td>-9.314769e+08</td>\n",
       "      <td>-9.797130e+08</td>\n",
       "      <td>-1.617266e+09</td>\n",
       "      <td>0.000000e+00</td>\n",
       "    </tr>\n",
       "    <tr>\n",
       "      <td>25%</td>\n",
       "      <td>3.321582e+05</td>\n",
       "      <td>1.925800e+05</td>\n",
       "      <td>1.200000e+01</td>\n",
       "      <td>9.000000e+00</td>\n",
       "      <td>3.600000e+01</td>\n",
       "      <td>5.000000e+00</td>\n",
       "    </tr>\n",
       "    <tr>\n",
       "      <td>50%</td>\n",
       "      <td>1.969045e+06</td>\n",
       "      <td>1.220182e+06</td>\n",
       "      <td>7.900000e+01</td>\n",
       "      <td>5.400000e+01</td>\n",
       "      <td>1.770000e+02</td>\n",
       "      <td>1.100000e+01</td>\n",
       "    </tr>\n",
       "    <tr>\n",
       "      <td>75%</td>\n",
       "      <td>5.053854e+06</td>\n",
       "      <td>3.644770e+06</td>\n",
       "      <td>2.470000e+02</td>\n",
       "      <td>1.730000e+02</td>\n",
       "      <td>4.660000e+02</td>\n",
       "      <td>1.600000e+01</td>\n",
       "    </tr>\n",
       "    <tr>\n",
       "      <td>max</td>\n",
       "      <td>9.168487e+08</td>\n",
       "      <td>9.797130e+08</td>\n",
       "      <td>9.168486e+08</td>\n",
       "      <td>9.719247e+08</td>\n",
       "      <td>1.626477e+09</td>\n",
       "      <td>2.300000e+01</td>\n",
       "    </tr>\n",
       "  </tbody>\n",
       "</table>\n",
       "</div>"
      ],
      "text/plain": [
       "            ENTRIES         EXITS     ENTRYDIFF     EXITSDIFF      BUSYNESS  \\\n",
       "count  9.784954e+06  9.784954e+06  9.784954e+06  9.784954e+06  9.784954e+06   \n",
       "mean   5.054383e+06  2.914473e+06  8.718158e+02  6.730445e+02  1.544860e+03   \n",
       "std    3.363493e+07  3.318126e+07  1.026176e+06  1.025303e+06  1.639360e+06   \n",
       "min   -9.314769e+08 -8.789650e+08 -9.314769e+08 -9.797130e+08 -1.617266e+09   \n",
       "25%    3.321582e+05  1.925800e+05  1.200000e+01  9.000000e+00  3.600000e+01   \n",
       "50%    1.969045e+06  1.220182e+06  7.900000e+01  5.400000e+01  1.770000e+02   \n",
       "75%    5.053854e+06  3.644770e+06  2.470000e+02  1.730000e+02  4.660000e+02   \n",
       "max    9.168487e+08  9.797130e+08  9.168486e+08  9.719247e+08  1.626477e+09   \n",
       "\n",
       "               HOUR  \n",
       "count  9.784954e+06  \n",
       "mean   1.093903e+01  \n",
       "std    6.898596e+00  \n",
       "min    0.000000e+00  \n",
       "25%    5.000000e+00  \n",
       "50%    1.100000e+01  \n",
       "75%    1.600000e+01  \n",
       "max    2.300000e+01  "
      ]
     },
     "execution_count": 13,
     "metadata": {},
     "output_type": "execute_result"
    }
   ],
   "source": [
    "merge_df.describe()"
   ]
  },
  {
   "cell_type": "markdown",
   "metadata": {},
   "source": [
    "## Outlier Removal \n",
    "Based on the above profile, it appears there are outliers for both entries and exits given the really large positive and negative values for the exits and entry differences. Although I could use statistics to try to identify outliers, I tend to favor simplicity and like to root my analysis in the real world phenomenon that the data actually represents. In this case, that is the number of individuals that go through a subway turnstile in a 4 hour period. Given that this can't be a negative number, I will drop all rows with a negative value. For the larger values, I am going to make the assumption that no more than 1 person can go through a turnstile per second, so the largest possible value in a 4 hour window is 14,400 (1 Person X 60 Seconds X 60 Minutes X 4 Hours). If I had more time, I would consider replacing these outlier values with the average for that station/time period, but for now I am just going to drop the data as it represents a small percentage of entries (~3%). "
   ]
  },
  {
   "cell_type": "code",
   "execution_count": 14,
   "metadata": {
    "collapsed": true
   },
   "outputs": [],
   "source": [
    "merge_df=merge_df[(merge_df['ENTRYDIFF']>=0) & (merge_df['ENTRYDIFF'] <= 14400) & (merge_df['EXITSDIFF']>=0) & (merge_df['EXITSDIFF'] <= 14400)]"
   ]
  },
  {
   "cell_type": "markdown",
   "metadata": {},
   "source": [
    "# Analysis"
   ]
  },
  {
   "cell_type": "markdown",
   "metadata": {},
   "source": [
    "## Which station has the most number of units?\n",
    "For this analysis, I am analyzing the most current data available for the week ending 5/22/21. The assumption here is that this question is asking for the current state of the subway system. I am defining unit as a 'Remote Unit for a station' and arriving at the answer by taking a unique count of units per station. "
   ]
  },
  {
   "cell_type": "code",
   "execution_count": 15,
   "metadata": {
    "collapsed": false
   },
   "outputs": [
    {
     "data": {
      "text/html": [
       "<div>\n",
       "<style scoped>\n",
       "    .dataframe tbody tr th:only-of-type {\n",
       "        vertical-align: middle;\n",
       "    }\n",
       "\n",
       "    .dataframe tbody tr th {\n",
       "        vertical-align: top;\n",
       "    }\n",
       "\n",
       "    .dataframe thead th {\n",
       "        text-align: right;\n",
       "    }\n",
       "</style>\n",
       "<table border=\"1\" class=\"dataframe\">\n",
       "  <thead>\n",
       "    <tr style=\"text-align: right;\">\n",
       "      <th></th>\n",
       "      <th>STATION</th>\n",
       "      <th>UNITS</th>\n",
       "    </tr>\n",
       "  </thead>\n",
       "  <tbody>\n",
       "    <tr>\n",
       "      <td>0</td>\n",
       "      <td>23 ST</td>\n",
       "      <td>6</td>\n",
       "    </tr>\n",
       "    <tr>\n",
       "      <td>1</td>\n",
       "      <td>86 ST</td>\n",
       "      <td>5</td>\n",
       "    </tr>\n",
       "    <tr>\n",
       "      <td>2</td>\n",
       "      <td>CANAL ST</td>\n",
       "      <td>5</td>\n",
       "    </tr>\n",
       "    <tr>\n",
       "      <td>3</td>\n",
       "      <td>GRD CNTRL-42 ST</td>\n",
       "      <td>4</td>\n",
       "    </tr>\n",
       "    <tr>\n",
       "      <td>4</td>\n",
       "      <td>125 ST</td>\n",
       "      <td>4</td>\n",
       "    </tr>\n",
       "  </tbody>\n",
       "</table>\n",
       "</div>"
      ],
      "text/plain": [
       "           STATION  UNITS\n",
       "0            23 ST      6\n",
       "1            86 ST      5\n",
       "2         CANAL ST      5\n",
       "3  GRD CNTRL-42 ST      4\n",
       "4           125 ST      4"
      ]
     },
     "execution_count": 15,
     "metadata": {},
     "output_type": "execute_result"
    }
   ],
   "source": [
    "current_data.groupby('STATION').UNIT.nunique().sort_values(ascending=False).reset_index(name='UNITS')[:5]"
   ]
  },
  {
   "cell_type": "markdown",
   "metadata": {},
   "source": [
    "### Answer \n",
    "23 St station has the most units (6 units). "
   ]
  },
  {
   "cell_type": "markdown",
   "metadata": {},
   "source": [
    "## What is the total number of entries & exits across the subway system for February 1, 2013?\n",
    "For this analysis, I am analyzing the historical data from February 1, 2013."
   ]
  },
  {
   "cell_type": "code",
   "execution_count": 16,
   "metadata": {
    "collapsed": false
   },
   "outputs": [
    {
     "name": "stdout",
     "output_type": "stream",
     "text": [
      "There where 5738143.0 entries and 4435837.0 exits across the subway system on February 1, 2013\n"
     ]
    }
   ],
   "source": [
    "feb_1_summary=merge_df.loc[(merge_df['DATE']=='02-01-13'),['ENTRYDIFF','EXITSDIFF']].sum()\n",
    "entries=feb_1_summary['ENTRYDIFF']\n",
    "exits=feb_1_summary['EXITSDIFF']\n",
    "print(f'There where {entries} entries and {exits} exits across the subway system on February 1, 2013')"
   ]
  },
  {
   "cell_type": "markdown",
   "metadata": {},
   "source": [
    "### Answer \n",
    "There were 5,738,143 entries and 4,435,837 exits across the subway system on February 1, 2013\n"
   ]
  },
  {
   "cell_type": "markdown",
   "metadata": {},
   "source": [
    "# Let’s define the busy-ness as sum of entry & exit count. What station was the busiest on February 1, 2013? What turnstile was the busiest on that date?"
   ]
  },
  {
   "cell_type": "markdown",
   "metadata": {},
   "source": [
    "## Busiest Station"
   ]
  },
  {
   "cell_type": "code",
   "execution_count": 17,
   "metadata": {
    "collapsed": true
   },
   "outputs": [],
   "source": [
    "%matplotlib inline"
   ]
  },
  {
   "cell_type": "code",
   "execution_count": 18,
   "metadata": {
    "collapsed": false
   },
   "outputs": [
    {
     "data": {
      "text/plain": [
       "<matplotlib.axes._subplots.AxesSubplot at 0x7fa238a5fd90>"
      ]
     },
     "execution_count": 18,
     "metadata": {},
     "output_type": "execute_result"
    },
    {
     "data": {
      "image/png": "[encoded data removed]",
      "text/plain": [
       "<Figure size 432x288 with 1 Axes>"
      ]
     },
     "metadata": {
      "needs_background": "light"
     },
     "output_type": "display_data"
    }
   ],
   "source": [
    "#busiest station\n",
    "metro_feb_1=merge_df[merge_df['DATE']=='02-01-13']\n",
    "metro_feb_1.groupby('STATION').BUSYNESS.sum().sort_values(ascending=False).reset_index(name='count')[:5].sort_values(by='count',ascending=True).plot.barh(x='STATION')"
   ]
  },
  {
   "cell_type": "markdown",
   "metadata": {},
   "source": [
    "### Answer \n",
    "34 St-Penn Station was the busiest station on February 1, 2013 with 360,435 exits & entries "
   ]
  },
  {
   "cell_type": "markdown",
   "metadata": {},
   "source": [
    "## Busiest Turnstile \n",
    "For this analysis, a turnstile is defined as a unique combination of control area, unit, and SCP at a station. "
   ]
  },
  {
   "cell_type": "code",
   "execution_count": 19,
   "metadata": {
    "collapsed": false
   },
   "outputs": [
    {
     "data": {
      "text/html": [
       "<div>\n",
       "<style scoped>\n",
       "    .dataframe tbody tr th:only-of-type {\n",
       "        vertical-align: middle;\n",
       "    }\n",
       "\n",
       "    .dataframe tbody tr th {\n",
       "        vertical-align: top;\n",
       "    }\n",
       "\n",
       "    .dataframe thead th {\n",
       "        text-align: right;\n",
       "    }\n",
       "</style>\n",
       "<table border=\"1\" class=\"dataframe\">\n",
       "  <thead>\n",
       "    <tr style=\"text-align: right;\">\n",
       "      <th></th>\n",
       "      <th>STATION</th>\n",
       "      <th>UNIT</th>\n",
       "      <th>C/A</th>\n",
       "      <th>SCP</th>\n",
       "      <th>count</th>\n",
       "    </tr>\n",
       "  </thead>\n",
       "  <tbody>\n",
       "    <tr>\n",
       "      <td>0</td>\n",
       "      <td>42 ST-GRD CNTRL</td>\n",
       "      <td>R047</td>\n",
       "      <td>R240</td>\n",
       "      <td>00-00-00</td>\n",
       "      <td>13529.0</td>\n",
       "    </tr>\n",
       "    <tr>\n",
       "      <td>1</td>\n",
       "      <td>LEXINGTON AVE</td>\n",
       "      <td>R319</td>\n",
       "      <td>N601</td>\n",
       "      <td>00-00-00</td>\n",
       "      <td>13066.0</td>\n",
       "    </tr>\n",
       "    <tr>\n",
       "      <td>2</td>\n",
       "      <td>42 ST-PA BUS TE</td>\n",
       "      <td>R011</td>\n",
       "      <td>N063A</td>\n",
       "      <td>00-00-00</td>\n",
       "      <td>12188.0</td>\n",
       "    </tr>\n",
       "    <tr>\n",
       "      <td>3</td>\n",
       "      <td>14 ST-UNION SQ</td>\n",
       "      <td>R170</td>\n",
       "      <td>R221</td>\n",
       "      <td>01-00-00</td>\n",
       "      <td>12060.0</td>\n",
       "    </tr>\n",
       "    <tr>\n",
       "      <td>4</td>\n",
       "      <td>86 ST</td>\n",
       "      <td>R179</td>\n",
       "      <td>R249</td>\n",
       "      <td>01-00-09</td>\n",
       "      <td>11692.0</td>\n",
       "    </tr>\n",
       "  </tbody>\n",
       "</table>\n",
       "</div>"
      ],
      "text/plain": [
       "           STATION  UNIT    C/A       SCP    count\n",
       "0  42 ST-GRD CNTRL  R047   R240  00-00-00  13529.0\n",
       "1    LEXINGTON AVE  R319   N601  00-00-00  13066.0\n",
       "2  42 ST-PA BUS TE  R011  N063A  00-00-00  12188.0\n",
       "3   14 ST-UNION SQ  R170   R221  01-00-00  12060.0\n",
       "4            86 ST  R179   R249  01-00-09  11692.0"
      ]
     },
     "execution_count": 19,
     "metadata": {},
     "output_type": "execute_result"
    }
   ],
   "source": [
    "metro_feb_1.groupby(['STATION','UNIT','C/A','SCP']).BUSYNESS.sum().sort_values(ascending=False).reset_index(name='count')[:5]"
   ]
  },
  {
   "cell_type": "markdown",
   "metadata": {},
   "source": [
    "### Answer \n",
    "The turnstile at 42 ST-GRD CNTRL with the following attributes was the busiest turnstile on February 1,2013 with 13,529 total entries and exits. \n",
    "Unit=R047\n",
    "C/A=R240 \n",
    "SCP=00-00-00"
   ]
  },
  {
   "cell_type": "markdown",
   "metadata": {},
   "source": [
    "# What stations have seen the most usage growth/decline in 2013?\n",
    "For this analysis, I considered incorporating 2012 data to calculate YoY growth/decline metrics. I chose not to go with this approach for the sake of simplicity and to cut down on data volumes. I would consider this approach if I had more time or wanted to dig deeper. Instead, I decided to take an average of the monthly percent change in daily busyness for each station. I also compared the average daily busyness in the first half of the year to the second half of the year. "
   ]
  },
  {
   "cell_type": "markdown",
   "metadata": {},
   "source": [
    "## Average Monthly Percent Change in Average Daily Busyness \n",
    "In this approach, I calculated the average daily busyness for each month. From there, I calculated the MoM percent change in this average daily busyness. Finally, I took an average of this number for each station. One thing to be cautious of here is that the final metric is a few levels abstracted from the root data given that it is an average of a percent change of an average. For this reason, I also explored another approach."
   ]
  },
  {
   "cell_type": "code",
   "execution_count": 20,
   "metadata": {
    "collapsed": true
   },
   "outputs": [],
   "source": [
    "usage_change=merge_df\n",
    "usage_change['MONTH']=usage_change['DATETIME'].dt.month\n",
    "usage_change=usage_change.groupby(['MONTH','DATE','STATION']).BUSYNESS.sum().reset_index(name='BUSYNESS')\n",
    "usage_change=usage_change.groupby(['MONTH','STATION']).BUSYNESS.mean().reset_index(name='AVGBUSYNESS')\n",
    "usage_change=usage_change.sort_values(by=['STATION','MONTH'],ascending=(True,True))\n",
    "usage_change['PCTCHANGE']=usage_change.groupby('STATION')['AVGBUSYNESS'].pct_change()\n",
    "usage_change_agg=usage_change.groupby('STATION')['PCTCHANGE'].mean().reset_index(name='AVGPCTCHANGE')"
   ]
  },
  {
   "cell_type": "code",
   "execution_count": 21,
   "metadata": {
    "collapsed": false
   },
   "outputs": [
    {
     "data": {
      "text/html": [
       "<div>\n",
       "<style scoped>\n",
       "    .dataframe tbody tr th:only-of-type {\n",
       "        vertical-align: middle;\n",
       "    }\n",
       "\n",
       "    .dataframe tbody tr th {\n",
       "        vertical-align: top;\n",
       "    }\n",
       "\n",
       "    .dataframe thead th {\n",
       "        text-align: right;\n",
       "    }\n",
       "</style>\n",
       "<table border=\"1\" class=\"dataframe\">\n",
       "  <thead>\n",
       "    <tr style=\"text-align: right;\">\n",
       "      <th></th>\n",
       "      <th>STATION</th>\n",
       "      <th>AVGPCTCHANGE</th>\n",
       "    </tr>\n",
       "  </thead>\n",
       "  <tbody>\n",
       "    <tr>\n",
       "      <td>374</td>\n",
       "      <td>WHITEHALL ST</td>\n",
       "      <td>-0.047617</td>\n",
       "    </tr>\n",
       "    <tr>\n",
       "      <td>294</td>\n",
       "      <td>MURRAY ST-B'WAY</td>\n",
       "      <td>-0.039709</td>\n",
       "    </tr>\n",
       "    <tr>\n",
       "      <td>263</td>\n",
       "      <td>JOURNAL SQUARE</td>\n",
       "      <td>-0.032968</td>\n",
       "    </tr>\n",
       "    <tr>\n",
       "      <td>337</td>\n",
       "      <td>ROCKAWAY BLVD</td>\n",
       "      <td>-0.017593</td>\n",
       "    </tr>\n",
       "    <tr>\n",
       "      <td>189</td>\n",
       "      <td>CORTLANDT ST</td>\n",
       "      <td>-0.015085</td>\n",
       "    </tr>\n",
       "  </tbody>\n",
       "</table>\n",
       "</div>"
      ],
      "text/plain": [
       "             STATION  AVGPCTCHANGE\n",
       "374     WHITEHALL ST     -0.047617\n",
       "294  MURRAY ST-B'WAY     -0.039709\n",
       "263   JOURNAL SQUARE     -0.032968\n",
       "337    ROCKAWAY BLVD     -0.017593\n",
       "189     CORTLANDT ST     -0.015085"
      ]
     },
     "execution_count": 21,
     "metadata": {},
     "output_type": "execute_result"
    }
   ],
   "source": [
    "#Usage Decline  \n",
    "usage_change_agg.sort_values(by='AVGPCTCHANGE',ascending=True)[:5]"
   ]
  },
  {
   "cell_type": "code",
   "execution_count": 22,
   "metadata": {
    "collapsed": false
   },
   "outputs": [
    {
     "data": {
      "text/html": [
       "<div>\n",
       "<style scoped>\n",
       "    .dataframe tbody tr th:only-of-type {\n",
       "        vertical-align: middle;\n",
       "    }\n",
       "\n",
       "    .dataframe tbody tr th {\n",
       "        vertical-align: top;\n",
       "    }\n",
       "\n",
       "    .dataframe thead th {\n",
       "        text-align: right;\n",
       "    }\n",
       "</style>\n",
       "<table border=\"1\" class=\"dataframe\">\n",
       "  <thead>\n",
       "    <tr style=\"text-align: right;\">\n",
       "      <th></th>\n",
       "      <th>STATION</th>\n",
       "      <th>AVGPCTCHANGE</th>\n",
       "    </tr>\n",
       "  </thead>\n",
       "  <tbody>\n",
       "    <tr>\n",
       "      <td>145</td>\n",
       "      <td>BEACH 90 ST</td>\n",
       "      <td>22.408048</td>\n",
       "    </tr>\n",
       "    <tr>\n",
       "      <td>121</td>\n",
       "      <td>AQUEDUCT TRACK</td>\n",
       "      <td>20.153868</td>\n",
       "    </tr>\n",
       "    <tr>\n",
       "      <td>314</td>\n",
       "      <td>ORCHARD BEACH</td>\n",
       "      <td>3.802568</td>\n",
       "    </tr>\n",
       "    <tr>\n",
       "      <td>142</td>\n",
       "      <td>BEACH 44 ST</td>\n",
       "      <td>0.912881</td>\n",
       "    </tr>\n",
       "    <tr>\n",
       "      <td>146</td>\n",
       "      <td>BEACH 98 ST</td>\n",
       "      <td>0.907683</td>\n",
       "    </tr>\n",
       "  </tbody>\n",
       "</table>\n",
       "</div>"
      ],
      "text/plain": [
       "            STATION  AVGPCTCHANGE\n",
       "145     BEACH 90 ST     22.408048\n",
       "121  AQUEDUCT TRACK     20.153868\n",
       "314   ORCHARD BEACH      3.802568\n",
       "142     BEACH 44 ST      0.912881\n",
       "146     BEACH 98 ST      0.907683"
      ]
     },
     "execution_count": 22,
     "metadata": {},
     "output_type": "execute_result"
    }
   ],
   "source": [
    "#Usage Growth \n",
    "usage_change_agg.sort_values(by='AVGPCTCHANGE',ascending=False)[:5]"
   ]
  },
  {
   "cell_type": "markdown",
   "metadata": {},
   "source": [
    "Based on this first method, Whitehall St, Murry St-B'way, and Journal Square stations had the biggest decline in 2013. Beach 90 St, Aqueduct Track, and Orchard Beach had the largest increases. The sheer magnitude of AVGPCTCHANGE for BEACH 90 ST and AQUEDUCT TRACK are worth drilling into. "
   ]
  },
  {
   "cell_type": "code",
   "execution_count": 23,
   "metadata": {
    "collapsed": false
   },
   "outputs": [
    {
     "name": "stdout",
     "output_type": "stream",
     "text": [
      "      MONTH         STATION  AVGBUSYNESS   PCTCHANGE\n",
      "870       3  AQUEDUCT TRACK    14.500000         NaN\n",
      "1246      4  AQUEDUCT TRACK     1.033333   -0.928736\n",
      "1622      5  AQUEDUCT TRACK    13.875000   12.427419\n",
      "2003      6  AQUEDUCT TRACK     5.333333   -0.615616\n",
      "2384      7  AQUEDUCT TRACK     8.645161    0.620968\n",
      "2765      8  AQUEDUCT TRACK  1475.580645  169.682836\n",
      "3147      9  AQUEDUCT TRACK  1570.892857    0.064593\n",
      "3529     10  AQUEDUCT TRACK  1528.741935   -0.026832\n",
      "3910     11  AQUEDUCT TRACK  1984.933333    0.298410\n",
      "4289     12  AQUEDUCT TRACK  1710.548387   -0.138234\n",
      "143       1     BEACH 90 ST     0.903226         NaN\n",
      "517       2     BEACH 90 ST     0.500000   -0.446429\n",
      "893       3     BEACH 90 ST     1.741935    2.483871\n",
      "1269      4     BEACH 90 ST     0.566667   -0.674691\n",
      "1646      5     BEACH 90 ST   131.580645  231.201139\n",
      "2027      6     BEACH 90 ST  1826.666667   12.882488\n",
      "2408      7     BEACH 90 ST  2362.774194    0.293490\n",
      "2789      8     BEACH 90 ST  1926.612903   -0.184597\n",
      "3171      9     BEACH 90 ST  1368.833333   -0.289513\n",
      "3553     10     BEACH 90 ST  1128.870968   -0.175304\n",
      "3934     11     BEACH 90 ST  1070.066667   -0.052091\n",
      "4313     12     BEACH 90 ST  2621.838710    1.450164\n"
     ]
    }
   ],
   "source": [
    "usage_change_outliers=usage_change[(usage_change['STATION']=='BEACH 90 ST')|(usage_change['STATION']=='AQUEDUCT TRACK')]\n",
    "print(usage_change_outliers)"
   ]
  },
  {
   "cell_type": "markdown",
   "metadata": {},
   "source": [
    "Based on the above, it is clear that this method is susceptible to outliers and can also overstate growth/decline in small numbers given that it is measuring a relative not absolute change. In the case here, the increase in two months alone is severely skewing the overall metric. That being said, there appears to be seasonality in the data which makes sense given the stations provide transport to a beach and horse racetrack. "
   ]
  },
  {
   "cell_type": "markdown",
   "metadata": {},
   "source": [
    "## Percent Change in Average Daily Business for First and Second Half of the Year\n",
    "In this approach, I take the average daily busyness for each station for the first and second half of the year. From there, I calculate the percent difference between the first and second half of the year. Given that this is focusing on half year periods (as opposed to monthly periods) it should be less susceptible to monthly variations in the data."
   ]
  },
  {
   "cell_type": "code",
   "execution_count": 24,
   "metadata": {
    "collapsed": true
   },
   "outputs": [],
   "source": [
    "usage_change_half=merge_df\n",
    "usage_change_half['QUARTER']=usage_change_half['DATETIME'].dt.quarter\n",
    "usage_change_half['HALF']=(usage_change_half['QUARTER']>2)*1+1\n",
    "usage_change_half=usage_change_half.groupby(['HALF','MONTH','DATE','STATION']).BUSYNESS.sum().reset_index(name='BUSYNESS')\n",
    "usage_change_half=usage_change_half.groupby(['HALF','STATION']).BUSYNESS.mean().reset_index(name='AVGBUSYNESS')\n",
    "usage_change_half=usage_change_half.sort_values(by='STATION')\n",
    "usage_change_half[:15]\n",
    "usage_change_half['PCTCHANGE']=usage_change_half.groupby('STATION')['AVGBUSYNESS'].pct_change()"
   ]
  },
  {
   "cell_type": "code",
   "execution_count": 25,
   "metadata": {
    "collapsed": false
   },
   "outputs": [
    {
     "data": {
      "text/html": [
       "<div>\n",
       "<style scoped>\n",
       "    .dataframe tbody tr th:only-of-type {\n",
       "        vertical-align: middle;\n",
       "    }\n",
       "\n",
       "    .dataframe tbody tr th {\n",
       "        vertical-align: top;\n",
       "    }\n",
       "\n",
       "    .dataframe thead th {\n",
       "        text-align: right;\n",
       "    }\n",
       "</style>\n",
       "<table border=\"1\" class=\"dataframe\">\n",
       "  <thead>\n",
       "    <tr style=\"text-align: right;\">\n",
       "      <th></th>\n",
       "      <th>HALF</th>\n",
       "      <th>STATION</th>\n",
       "      <th>AVGBUSYNESS</th>\n",
       "      <th>PCTCHANGE</th>\n",
       "    </tr>\n",
       "  </thead>\n",
       "  <tbody>\n",
       "    <tr>\n",
       "      <td>503</td>\n",
       "      <td>2</td>\n",
       "      <td>AQUEDUCT TRACK</td>\n",
       "      <td>1373.417582</td>\n",
       "      <td>208.793805</td>\n",
       "    </tr>\n",
       "    <tr>\n",
       "      <td>527</td>\n",
       "      <td>2</td>\n",
       "      <td>BEACH 90 ST</td>\n",
       "      <td>1752.228261</td>\n",
       "      <td>4.376209</td>\n",
       "    </tr>\n",
       "    <tr>\n",
       "      <td>524</td>\n",
       "      <td>2</td>\n",
       "      <td>BEACH 44 ST</td>\n",
       "      <td>976.711957</td>\n",
       "      <td>4.013325</td>\n",
       "    </tr>\n",
       "    <tr>\n",
       "      <td>523</td>\n",
       "      <td>2</td>\n",
       "      <td>BEACH 36 ST</td>\n",
       "      <td>1423.510870</td>\n",
       "      <td>3.331946</td>\n",
       "    </tr>\n",
       "    <tr>\n",
       "      <td>526</td>\n",
       "      <td>2</td>\n",
       "      <td>BEACH 67 ST</td>\n",
       "      <td>3575.489130</td>\n",
       "      <td>3.088298</td>\n",
       "    </tr>\n",
       "  </tbody>\n",
       "</table>\n",
       "</div>"
      ],
      "text/plain": [
       "     HALF         STATION  AVGBUSYNESS   PCTCHANGE\n",
       "503     2  AQUEDUCT TRACK  1373.417582  208.793805\n",
       "527     2     BEACH 90 ST  1752.228261    4.376209\n",
       "524     2     BEACH 44 ST   976.711957    4.013325\n",
       "523     2     BEACH 36 ST  1423.510870    3.331946\n",
       "526     2     BEACH 67 ST  3575.489130    3.088298"
      ]
     },
     "execution_count": 25,
     "metadata": {},
     "output_type": "execute_result"
    }
   ],
   "source": [
    "#Growth \n",
    "usage_change_half_pct_change=usage_change_half[usage_change_half[\"HALF\"]==2]\n",
    "usage_change_half_pct_change.sort_values(by='PCTCHANGE',ascending=False)[:5]"
   ]
  },
  {
   "cell_type": "code",
   "execution_count": 26,
   "metadata": {
    "collapsed": false
   },
   "outputs": [
    {
     "name": "stdout",
     "output_type": "stream",
     "text": [
      "      MONTH         STATION  AVGBUSYNESS   PCTCHANGE\n",
      "870       3  AQUEDUCT TRACK    14.500000         NaN\n",
      "1246      4  AQUEDUCT TRACK     1.033333   -0.928736\n",
      "1622      5  AQUEDUCT TRACK    13.875000   12.427419\n",
      "2003      6  AQUEDUCT TRACK     5.333333   -0.615616\n",
      "2384      7  AQUEDUCT TRACK     8.645161    0.620968\n",
      "2765      8  AQUEDUCT TRACK  1475.580645  169.682836\n",
      "3147      9  AQUEDUCT TRACK  1570.892857    0.064593\n",
      "3529     10  AQUEDUCT TRACK  1528.741935   -0.026832\n",
      "3910     11  AQUEDUCT TRACK  1984.933333    0.298410\n",
      "4289     12  AQUEDUCT TRACK  1710.548387   -0.138234\n"
     ]
    }
   ],
   "source": [
    "usage_change_aque=usage_change[(usage_change['STATION']=='AQUEDUCT TRACK')]\n",
    "print(usage_change_aque)"
   ]
  },
  {
   "cell_type": "markdown",
   "metadata": {},
   "source": [
    "Using this approach, the percent change growth numbers look more realistic (excluding Aqueduct Tract). For the Aqueduct Tract station, there is a large increase in average busyness in the second half of the year compared to the first half. "
   ]
  },
  {
   "cell_type": "code",
   "execution_count": 27,
   "metadata": {
    "collapsed": false
   },
   "outputs": [
    {
     "data": {
      "text/html": [
       "<div>\n",
       "<style scoped>\n",
       "    .dataframe tbody tr th:only-of-type {\n",
       "        vertical-align: middle;\n",
       "    }\n",
       "\n",
       "    .dataframe tbody tr th {\n",
       "        vertical-align: top;\n",
       "    }\n",
       "\n",
       "    .dataframe thead th {\n",
       "        text-align: right;\n",
       "    }\n",
       "</style>\n",
       "<table border=\"1\" class=\"dataframe\">\n",
       "  <thead>\n",
       "    <tr style=\"text-align: right;\">\n",
       "      <th></th>\n",
       "      <th>HALF</th>\n",
       "      <th>STATION</th>\n",
       "      <th>AVGBUSYNESS</th>\n",
       "      <th>PCTCHANGE</th>\n",
       "    </tr>\n",
       "  </thead>\n",
       "  <tbody>\n",
       "    <tr>\n",
       "      <td>628</td>\n",
       "      <td>2</td>\n",
       "      <td>HOWARD BCH-JFK</td>\n",
       "      <td>2549.315217</td>\n",
       "      <td>-0.657765</td>\n",
       "    </tr>\n",
       "    <tr>\n",
       "      <td>676</td>\n",
       "      <td>2</td>\n",
       "      <td>MURRAY ST-B'WAY</td>\n",
       "      <td>5101.010870</td>\n",
       "      <td>-0.383116</td>\n",
       "    </tr>\n",
       "    <tr>\n",
       "      <td>560</td>\n",
       "      <td>2</td>\n",
       "      <td>CENTRAL AVE</td>\n",
       "      <td>4216.802817</td>\n",
       "      <td>-0.198759</td>\n",
       "    </tr>\n",
       "    <tr>\n",
       "      <td>719</td>\n",
       "      <td>2</td>\n",
       "      <td>ROCKAWAY BLVD</td>\n",
       "      <td>9799.369565</td>\n",
       "      <td>-0.198084</td>\n",
       "    </tr>\n",
       "    <tr>\n",
       "      <td>645</td>\n",
       "      <td>2</td>\n",
       "      <td>JOURNAL SQUARE</td>\n",
       "      <td>29537.351648</td>\n",
       "      <td>-0.195963</td>\n",
       "    </tr>\n",
       "  </tbody>\n",
       "</table>\n",
       "</div>"
      ],
      "text/plain": [
       "     HALF          STATION   AVGBUSYNESS  PCTCHANGE\n",
       "628     2   HOWARD BCH-JFK   2549.315217  -0.657765\n",
       "676     2  MURRAY ST-B'WAY   5101.010870  -0.383116\n",
       "560     2      CENTRAL AVE   4216.802817  -0.198759\n",
       "719     2    ROCKAWAY BLVD   9799.369565  -0.198084\n",
       "645     2   JOURNAL SQUARE  29537.351648  -0.195963"
      ]
     },
     "execution_count": 27,
     "metadata": {},
     "output_type": "execute_result"
    }
   ],
   "source": [
    "#Decline \n",
    "usage_change_half_pct_change.sort_values(by='PCTCHANGE',ascending=True)[:5]"
   ]
  },
  {
   "cell_type": "markdown",
   "metadata": {},
   "source": [
    "## Usage Growth/Decline Answer \n",
    "### Growth \n",
    "Based on my analysis, Aqueduct Track and Beach 90/44 stations had the most relative growth in a single year. This is likely due to the seasonality in the data given that more people go to the beach or horse races later in the year as opposed to earlier. If compared to prior years, my guess is that the YoY growth would be far less significant than what we see in a single year. Given the framing of the question and my decision to focus on growth within a single year, I am comfortable suggesting these had the highest growth throughout the year driven by seasonality. \n",
    "### Decline \n",
    "Based on my analysis, HOWARD BCH-JFK, MURRAY ST-B'WAY, and CENTRAL AVE had the most usage decline in a year."
   ]
  },
  {
   "cell_type": "markdown",
   "metadata": {},
   "source": [
    "# What dates are the least busy? Could you identify days on which stations were not operating at full capacity or closed entirely?\n",
    "For this question, I made the assumption that we are looking within 2013. "
   ]
  },
  {
   "cell_type": "markdown",
   "metadata": {},
   "source": [
    "## Least Busy"
   ]
  },
  {
   "cell_type": "code",
   "execution_count": 28,
   "metadata": {
    "collapsed": false
   },
   "outputs": [
    {
     "data": {
      "text/html": [
       "<div>\n",
       "<style scoped>\n",
       "    .dataframe tbody tr th:only-of-type {\n",
       "        vertical-align: middle;\n",
       "    }\n",
       "\n",
       "    .dataframe tbody tr th {\n",
       "        vertical-align: top;\n",
       "    }\n",
       "\n",
       "    .dataframe thead th {\n",
       "        text-align: right;\n",
       "    }\n",
       "</style>\n",
       "<table border=\"1\" class=\"dataframe\">\n",
       "  <thead>\n",
       "    <tr style=\"text-align: right;\">\n",
       "      <th></th>\n",
       "      <th>DATE</th>\n",
       "      <th>count</th>\n",
       "    </tr>\n",
       "  </thead>\n",
       "  <tbody>\n",
       "    <tr>\n",
       "      <td>0</td>\n",
       "      <td>12-25-13</td>\n",
       "      <td>3383886.0</td>\n",
       "    </tr>\n",
       "    <tr>\n",
       "      <td>1</td>\n",
       "      <td>11-28-13</td>\n",
       "      <td>4209670.0</td>\n",
       "    </tr>\n",
       "    <tr>\n",
       "      <td>2</td>\n",
       "      <td>02-09-13</td>\n",
       "      <td>4248448.0</td>\n",
       "    </tr>\n",
       "    <tr>\n",
       "      <td>3</td>\n",
       "      <td>02-03-13</td>\n",
       "      <td>4386688.0</td>\n",
       "    </tr>\n",
       "    <tr>\n",
       "      <td>4</td>\n",
       "      <td>01-06-13</td>\n",
       "      <td>4479505.0</td>\n",
       "    </tr>\n",
       "  </tbody>\n",
       "</table>\n",
       "</div>"
      ],
      "text/plain": [
       "       DATE      count\n",
       "0  12-25-13  3383886.0\n",
       "1  11-28-13  4209670.0\n",
       "2  02-09-13  4248448.0\n",
       "3  02-03-13  4386688.0\n",
       "4  01-06-13  4479505.0"
      ]
     },
     "execution_count": 28,
     "metadata": {},
     "output_type": "execute_result"
    }
   ],
   "source": [
    "merge_df.groupby(['DATE']).BUSYNESS.sum().sort_values(ascending=True).reset_index(name='count')[:5]"
   ]
  },
  {
   "cell_type": "markdown",
   "metadata": {},
   "source": [
    "### Least Busy Answer \n",
    "The least busy days of the year were 12/25/2013, 11/28/2013, and 2/9/2013. This makes sense as two of these days were holidays (Christmas/Thanksgiving) and one was during a winter storm (Winter Storm Nemo) which likely drove low subway usage. "
   ]
  },
  {
   "cell_type": "markdown",
   "metadata": {},
   "source": [
    "## Closed Entirely \n",
    "For this analysis, I defined a day with no exits/entries as a station being closed. "
   ]
  },
  {
   "cell_type": "code",
   "execution_count": 29,
   "metadata": {
    "collapsed": false
   },
   "outputs": [
    {
     "data": {
      "text/html": [
       "<div>\n",
       "<style scoped>\n",
       "    .dataframe tbody tr th:only-of-type {\n",
       "        vertical-align: middle;\n",
       "    }\n",
       "\n",
       "    .dataframe tbody tr th {\n",
       "        vertical-align: top;\n",
       "    }\n",
       "\n",
       "    .dataframe thead th {\n",
       "        text-align: right;\n",
       "    }\n",
       "</style>\n",
       "<table border=\"1\" class=\"dataframe\">\n",
       "  <thead>\n",
       "    <tr style=\"text-align: right;\">\n",
       "      <th></th>\n",
       "      <th>DATE</th>\n",
       "      <th>STATION</th>\n",
       "      <th>Busyness</th>\n",
       "    </tr>\n",
       "  </thead>\n",
       "  <tbody>\n",
       "    <tr>\n",
       "      <td>0</td>\n",
       "      <td>05-18-13</td>\n",
       "      <td>BEACH 90 ST</td>\n",
       "      <td>0.0</td>\n",
       "    </tr>\n",
       "    <tr>\n",
       "      <td>1</td>\n",
       "      <td>02-13-13</td>\n",
       "      <td>BEACH 90 ST</td>\n",
       "      <td>0.0</td>\n",
       "    </tr>\n",
       "    <tr>\n",
       "      <td>2</td>\n",
       "      <td>02-26-13</td>\n",
       "      <td>BEACH 90 ST</td>\n",
       "      <td>0.0</td>\n",
       "    </tr>\n",
       "    <tr>\n",
       "      <td>3</td>\n",
       "      <td>06-15-13</td>\n",
       "      <td>AQUEDUCT TRACK</td>\n",
       "      <td>0.0</td>\n",
       "    </tr>\n",
       "    <tr>\n",
       "      <td>4</td>\n",
       "      <td>08-15-13</td>\n",
       "      <td>ORCHARD BEACH</td>\n",
       "      <td>0.0</td>\n",
       "    </tr>\n",
       "  </tbody>\n",
       "</table>\n",
       "</div>"
      ],
      "text/plain": [
       "       DATE         STATION  Busyness\n",
       "0  05-18-13     BEACH 90 ST       0.0\n",
       "1  02-13-13     BEACH 90 ST       0.0\n",
       "2  02-26-13     BEACH 90 ST       0.0\n",
       "3  06-15-13  AQUEDUCT TRACK       0.0\n",
       "4  08-15-13   ORCHARD BEACH       0.0"
      ]
     },
     "execution_count": 29,
     "metadata": {},
     "output_type": "execute_result"
    }
   ],
   "source": [
    "days_closed=merge_df.groupby(['DATE','STATION']).BUSYNESS.sum().sort_values(ascending=True).reset_index(name='Busyness')\n",
    "days_closed[:5]"
   ]
  },
  {
   "cell_type": "code",
   "execution_count": 30,
   "metadata": {
    "collapsed": false
   },
   "outputs": [
    {
     "data": {
      "text/plain": [
       "STATION\n",
       "COURT SQ-23 ST     365\n",
       "BAY RIDGE-95 ST    365\n",
       "AVE J              365\n",
       "AVE M              365\n",
       "AVE N              365\n",
       "                  ... \n",
       "BEACH 105 ST       232\n",
       "ROCKAWAY PK 116    228\n",
       "CENTRAL AVE        210\n",
       "ORCHARD BEACH      112\n",
       "LGA AIRPORT CTB      2\n",
       "Name: DATE, Length: 383, dtype: int64"
      ]
     },
     "execution_count": 30,
     "metadata": {},
     "output_type": "execute_result"
    }
   ],
   "source": [
    "days_closed.groupby(['STATION']).DATE.nunique().sort_values(ascending=False)"
   ]
  },
  {
   "cell_type": "markdown",
   "metadata": {},
   "source": [
    "### Closed Entirely Answer \n",
    "I included a dataframe that includes a list of all of the dates that stations were closed entirely. I also included a dataframe that summarizes the number of days closed per station."
   ]
  },
  {
   "cell_type": "markdown",
   "metadata": {},
   "source": [
    "## Not at full capacity \n",
    "There are multiple ways to define a station operating at full capacity. One way of defining this is that all of the turnstiles are open. Another way to define this is that all trains are running in the station. I explored both. \n",
    "### Turnstiles Capacity \n",
    "For this analysis, I calculated the total number of turnstiles for each day/station and the total number of active turnstiles for each day/station. I defined an active turnstile as a turnstile that had at least 1 entry/exit in a day. From here, I calculated a ratio by dividing the number of active turnstiles by the total number of turnstiles. This ratio represents the percent of all turnstiles that are active. "
   ]
  },
  {
   "cell_type": "code",
   "execution_count": 31,
   "metadata": {
    "collapsed": false
   },
   "outputs": [
    {
     "data": {
      "text/html": [
       "<div>\n",
       "<style scoped>\n",
       "    .dataframe tbody tr th:only-of-type {\n",
       "        vertical-align: middle;\n",
       "    }\n",
       "\n",
       "    .dataframe tbody tr th {\n",
       "        vertical-align: top;\n",
       "    }\n",
       "\n",
       "    .dataframe thead th {\n",
       "        text-align: right;\n",
       "    }\n",
       "</style>\n",
       "<table border=\"1\" class=\"dataframe\">\n",
       "  <thead>\n",
       "    <tr style=\"text-align: right;\">\n",
       "      <th></th>\n",
       "      <th>STATION</th>\n",
       "      <th>DATE</th>\n",
       "      <th>ACTIVETURNSTILE</th>\n",
       "      <th>TOTALTURNSTILE</th>\n",
       "      <th>RATIO</th>\n",
       "    </tr>\n",
       "  </thead>\n",
       "  <tbody>\n",
       "    <tr>\n",
       "      <td>137149</td>\n",
       "      <td>CORTLANDT ST</td>\n",
       "      <td>12-15-13</td>\n",
       "      <td>1</td>\n",
       "      <td>17</td>\n",
       "      <td>0.058824</td>\n",
       "    </tr>\n",
       "    <tr>\n",
       "      <td>137144</td>\n",
       "      <td>175 ST</td>\n",
       "      <td>04-07-13</td>\n",
       "      <td>1</td>\n",
       "      <td>16</td>\n",
       "      <td>0.062500</td>\n",
       "    </tr>\n",
       "    <tr>\n",
       "      <td>137499</td>\n",
       "      <td>BROAD ST</td>\n",
       "      <td>03-10-13</td>\n",
       "      <td>1</td>\n",
       "      <td>13</td>\n",
       "      <td>0.076923</td>\n",
       "    </tr>\n",
       "    <tr>\n",
       "      <td>136902</td>\n",
       "      <td>PATH WTC</td>\n",
       "      <td>11-17-13</td>\n",
       "      <td>2</td>\n",
       "      <td>26</td>\n",
       "      <td>0.076923</td>\n",
       "    </tr>\n",
       "    <tr>\n",
       "      <td>137502</td>\n",
       "      <td>BROAD ST</td>\n",
       "      <td>06-23-13</td>\n",
       "      <td>1</td>\n",
       "      <td>13</td>\n",
       "      <td>0.076923</td>\n",
       "    </tr>\n",
       "    <tr>\n",
       "      <td>137501</td>\n",
       "      <td>BROAD ST</td>\n",
       "      <td>04-14-13</td>\n",
       "      <td>1</td>\n",
       "      <td>13</td>\n",
       "      <td>0.076923</td>\n",
       "    </tr>\n",
       "    <tr>\n",
       "      <td>137488</td>\n",
       "      <td>WORLD TRADE CTR</td>\n",
       "      <td>08-25-13</td>\n",
       "      <td>1</td>\n",
       "      <td>11</td>\n",
       "      <td>0.090909</td>\n",
       "    </tr>\n",
       "    <tr>\n",
       "      <td>137493</td>\n",
       "      <td>231 ST</td>\n",
       "      <td>07-14-13</td>\n",
       "      <td>1</td>\n",
       "      <td>10</td>\n",
       "      <td>0.100000</td>\n",
       "    </tr>\n",
       "    <tr>\n",
       "      <td>137455</td>\n",
       "      <td>MOSHOLU PARKWAY</td>\n",
       "      <td>11-17-13</td>\n",
       "      <td>1</td>\n",
       "      <td>9</td>\n",
       "      <td>0.111111</td>\n",
       "    </tr>\n",
       "    <tr>\n",
       "      <td>137454</td>\n",
       "      <td>MOSHOLU PARKWAY</td>\n",
       "      <td>11-03-13</td>\n",
       "      <td>1</td>\n",
       "      <td>9</td>\n",
       "      <td>0.111111</td>\n",
       "    </tr>\n",
       "  </tbody>\n",
       "</table>\n",
       "</div>"
      ],
      "text/plain": [
       "                STATION      DATE  ACTIVETURNSTILE  TOTALTURNSTILE     RATIO\n",
       "137149     CORTLANDT ST  12-15-13                1              17  0.058824\n",
       "137144           175 ST  04-07-13                1              16  0.062500\n",
       "137499         BROAD ST  03-10-13                1              13  0.076923\n",
       "136902         PATH WTC  11-17-13                2              26  0.076923\n",
       "137502         BROAD ST  06-23-13                1              13  0.076923\n",
       "137501         BROAD ST  04-14-13                1              13  0.076923\n",
       "137488  WORLD TRADE CTR  08-25-13                1              11  0.090909\n",
       "137493           231 ST  07-14-13                1              10  0.100000\n",
       "137455  MOSHOLU PARKWAY  11-17-13                1               9  0.111111\n",
       "137454  MOSHOLU PARKWAY  11-03-13                1               9  0.111111"
      ]
     },
     "execution_count": 31,
     "metadata": {},
     "output_type": "execute_result"
    }
   ],
   "source": [
    "#Create aggregated daily dataframe\n",
    "turnstile_count=merge_df.groupby(['DATE','STATION','C/A', 'UNIT','SCP']).BUSYNESS.sum().reset_index(name='BUSYNESS')\n",
    "\n",
    "#Add a field that concatenates turnstile values \n",
    "turnstile_count['TURNSTILE']=turnstile_count['C/A']+turnstile_count['UNIT']+turnstile_count['SCP']\n",
    "\n",
    "#Total turnstiles\n",
    "total_turnstile_per_station=turnstile_count.groupby(['STATION','DATE']).TURNSTILE.nunique().reset_index(name='TOTALTURNSTILE').sort_values(by=['TOTALTURNSTILE'],ascending=False)\n",
    "\n",
    "#Active turnstiles\n",
    "active_turnstile_per_station=turnstile_count[turnstile_count['BUSYNESS']>0]\n",
    "active_turnstile_per_station=active_turnstile_per_station.groupby(['STATION','DATE']).TURNSTILE.nunique().reset_index(name='ACTIVETURNSTILE').sort_values(by=['ACTIVETURNSTILE'],ascending=False)\n",
    "\n",
    "#Merge total and active \n",
    "turnstiles=pd.merge(active_turnstile_per_station, total_turnstile_per_station, on=[\"STATION\",\"DATE\"])\n",
    "turnstiles['RATIO']=turnstiles['ACTIVETURNSTILE']/turnstiles['TOTALTURNSTILE']\n",
    "turnstiles.sort_values(by=['RATIO'],ascending=True)\n",
    "turnstiles_not_full_capacity=turnstiles[turnstiles['RATIO']<.5]\n",
    "turnstiles_not_full_capacity=turnstiles_not_full_capacity.sort_values(by='RATIO',ascending=True)\n",
    "turnstiles_not_full_capacity[:10]"
   ]
  },
  {
   "cell_type": "markdown",
   "metadata": {},
   "source": [
    "The above dataframe contains all dates/stations where the ratio of active turnstiles/total turnstiles is less than 50%, suggesting the station may not be fully utilized. "
   ]
  },
  {
   "cell_type": "markdown",
   "metadata": {},
   "source": [
    "### Busyness Capacity \n",
    "For this analysis, I compared the daily busyness of a station to the median daily busyness of a station. Computing a ratio of daily busyness to the median daily busyness can help us find days where subway usage is far below the median. This could indicate that not all trains are going into a station and that a station is not being fully utilized. "
   ]
  },
  {
   "cell_type": "code",
   "execution_count": 32,
   "metadata": {
    "collapsed": false
   },
   "outputs": [
    {
     "data": {
      "text/html": [
       "<div>\n",
       "<style scoped>\n",
       "    .dataframe tbody tr th:only-of-type {\n",
       "        vertical-align: middle;\n",
       "    }\n",
       "\n",
       "    .dataframe tbody tr th {\n",
       "        vertical-align: top;\n",
       "    }\n",
       "\n",
       "    .dataframe thead th {\n",
       "        text-align: right;\n",
       "    }\n",
       "</style>\n",
       "<table border=\"1\" class=\"dataframe\">\n",
       "  <thead>\n",
       "    <tr style=\"text-align: right;\">\n",
       "      <th></th>\n",
       "      <th>DATE</th>\n",
       "      <th>STATION</th>\n",
       "      <th>BUSYNESS</th>\n",
       "      <th>DAILYMEDIAN</th>\n",
       "      <th>PCTMEDIAN</th>\n",
       "    </tr>\n",
       "  </thead>\n",
       "  <tbody>\n",
       "    <tr>\n",
       "      <td>112515</td>\n",
       "      <td>11-17-13</td>\n",
       "      <td>PATH WTC</td>\n",
       "      <td>2.0</td>\n",
       "      <td>88281.0</td>\n",
       "      <td>0.000023</td>\n",
       "    </tr>\n",
       "    <tr>\n",
       "      <td>112522</td>\n",
       "      <td>11-24-13</td>\n",
       "      <td>PATH WTC</td>\n",
       "      <td>3.0</td>\n",
       "      <td>88281.0</td>\n",
       "      <td>0.000034</td>\n",
       "    </tr>\n",
       "    <tr>\n",
       "      <td>52001</td>\n",
       "      <td>11-17-13</td>\n",
       "      <td>BEDFORD AVE</td>\n",
       "      <td>2.0</td>\n",
       "      <td>45220.0</td>\n",
       "      <td>0.000044</td>\n",
       "    </tr>\n",
       "    <tr>\n",
       "      <td>12857</td>\n",
       "      <td>04-07-13</td>\n",
       "      <td>175 ST</td>\n",
       "      <td>1.0</td>\n",
       "      <td>20276.0</td>\n",
       "      <td>0.000049</td>\n",
       "    </tr>\n",
       "    <tr>\n",
       "      <td>15871</td>\n",
       "      <td>07-14-13</td>\n",
       "      <td>191 ST</td>\n",
       "      <td>1.0</td>\n",
       "      <td>15701.0</td>\n",
       "      <td>0.000064</td>\n",
       "    </tr>\n",
       "    <tr>\n",
       "      <td>76099</td>\n",
       "      <td>08-31-13</td>\n",
       "      <td>EUCLID AVE</td>\n",
       "      <td>1.0</td>\n",
       "      <td>13100.5</td>\n",
       "      <td>0.000076</td>\n",
       "    </tr>\n",
       "    <tr>\n",
       "      <td>103047</td>\n",
       "      <td>11-17-13</td>\n",
       "      <td>MOSHOLU PARKWAY</td>\n",
       "      <td>1.0</td>\n",
       "      <td>12443.0</td>\n",
       "      <td>0.000080</td>\n",
       "    </tr>\n",
       "    <tr>\n",
       "      <td>112508</td>\n",
       "      <td>11-10-13</td>\n",
       "      <td>PATH WTC</td>\n",
       "      <td>8.0</td>\n",
       "      <td>88281.0</td>\n",
       "      <td>0.000091</td>\n",
       "    </tr>\n",
       "    <tr>\n",
       "      <td>20326</td>\n",
       "      <td>10-06-13</td>\n",
       "      <td>231 ST</td>\n",
       "      <td>1.0</td>\n",
       "      <td>9971.0</td>\n",
       "      <td>0.000100</td>\n",
       "    </tr>\n",
       "    <tr>\n",
       "      <td>21335</td>\n",
       "      <td>07-14-13</td>\n",
       "      <td>242 ST</td>\n",
       "      <td>1.0</td>\n",
       "      <td>9705.0</td>\n",
       "      <td>0.000103</td>\n",
       "    </tr>\n",
       "    <tr>\n",
       "      <td>94810</td>\n",
       "      <td>01-13-13</td>\n",
       "      <td>KINGSTON AVE</td>\n",
       "      <td>1.0</td>\n",
       "      <td>8898.0</td>\n",
       "      <td>0.000112</td>\n",
       "    </tr>\n",
       "    <tr>\n",
       "      <td>81181</td>\n",
       "      <td>08-18-13</td>\n",
       "      <td>GATES AVE</td>\n",
       "      <td>1.0</td>\n",
       "      <td>8337.0</td>\n",
       "      <td>0.000120</td>\n",
       "    </tr>\n",
       "    <tr>\n",
       "      <td>79973</td>\n",
       "      <td>04-21-13</td>\n",
       "      <td>FRESH POND ROAD</td>\n",
       "      <td>1.0</td>\n",
       "      <td>7529.5</td>\n",
       "      <td>0.000133</td>\n",
       "    </tr>\n",
       "    <tr>\n",
       "      <td>124952</td>\n",
       "      <td>01-06-13</td>\n",
       "      <td>THIRTY THIRD ST</td>\n",
       "      <td>5.0</td>\n",
       "      <td>37453.0</td>\n",
       "      <td>0.000134</td>\n",
       "    </tr>\n",
       "    <tr>\n",
       "      <td>135839</td>\n",
       "      <td>02-02-13</td>\n",
       "      <td>KNICKERBOCKER</td>\n",
       "      <td>1.0</td>\n",
       "      <td>7485.5</td>\n",
       "      <td>0.000134</td>\n",
       "    </tr>\n",
       "    <tr>\n",
       "      <td>136098</td>\n",
       "      <td>10-20-13</td>\n",
       "      <td>KNICKERBOCKER</td>\n",
       "      <td>1.0</td>\n",
       "      <td>7485.5</td>\n",
       "      <td>0.000134</td>\n",
       "    </tr>\n",
       "    <tr>\n",
       "      <td>56885</td>\n",
       "      <td>04-14-13</td>\n",
       "      <td>BROAD ST</td>\n",
       "      <td>1.0</td>\n",
       "      <td>7483.0</td>\n",
       "      <td>0.000134</td>\n",
       "    </tr>\n",
       "    <tr>\n",
       "      <td>56955</td>\n",
       "      <td>06-23-13</td>\n",
       "      <td>BROAD ST</td>\n",
       "      <td>1.0</td>\n",
       "      <td>7483.0</td>\n",
       "      <td>0.000134</td>\n",
       "    </tr>\n",
       "    <tr>\n",
       "      <td>114019</td>\n",
       "      <td>01-06-13</td>\n",
       "      <td>PENNSYLVANIA AV</td>\n",
       "      <td>1.0</td>\n",
       "      <td>6951.0</td>\n",
       "      <td>0.000144</td>\n",
       "    </tr>\n",
       "    <tr>\n",
       "      <td>135194</td>\n",
       "      <td>03-03-13</td>\n",
       "      <td>FOREST AVE</td>\n",
       "      <td>1.0</td>\n",
       "      <td>6919.0</td>\n",
       "      <td>0.000145</td>\n",
       "    </tr>\n",
       "    <tr>\n",
       "      <td>78515</td>\n",
       "      <td>04-21-13</td>\n",
       "      <td>FOREST PARKWAY</td>\n",
       "      <td>1.0</td>\n",
       "      <td>6096.5</td>\n",
       "      <td>0.000164</td>\n",
       "    </tr>\n",
       "    <tr>\n",
       "      <td>81634</td>\n",
       "      <td>11-17-13</td>\n",
       "      <td>GRAHAM AVE</td>\n",
       "      <td>3.0</td>\n",
       "      <td>16332.5</td>\n",
       "      <td>0.000184</td>\n",
       "    </tr>\n",
       "    <tr>\n",
       "      <td>62700</td>\n",
       "      <td>11-24-13</td>\n",
       "      <td>CENTRAL AVE</td>\n",
       "      <td>1.0</td>\n",
       "      <td>5404.5</td>\n",
       "      <td>0.000185</td>\n",
       "    </tr>\n",
       "    <tr>\n",
       "      <td>135734</td>\n",
       "      <td>09-15-13</td>\n",
       "      <td>5 AVE-53 ST</td>\n",
       "      <td>9.0</td>\n",
       "      <td>48331.0</td>\n",
       "      <td>0.000186</td>\n",
       "    </tr>\n",
       "    <tr>\n",
       "      <td>15950</td>\n",
       "      <td>10-06-13</td>\n",
       "      <td>191 ST</td>\n",
       "      <td>3.0</td>\n",
       "      <td>15701.0</td>\n",
       "      <td>0.000191</td>\n",
       "    </tr>\n",
       "  </tbody>\n",
       "</table>\n",
       "</div>"
      ],
      "text/plain": [
       "            DATE          STATION  BUSYNESS  DAILYMEDIAN  PCTMEDIAN\n",
       "112515  11-17-13         PATH WTC       2.0      88281.0   0.000023\n",
       "112522  11-24-13         PATH WTC       3.0      88281.0   0.000034\n",
       "52001   11-17-13      BEDFORD AVE       2.0      45220.0   0.000044\n",
       "12857   04-07-13           175 ST       1.0      20276.0   0.000049\n",
       "15871   07-14-13           191 ST       1.0      15701.0   0.000064\n",
       "76099   08-31-13       EUCLID AVE       1.0      13100.5   0.000076\n",
       "103047  11-17-13  MOSHOLU PARKWAY       1.0      12443.0   0.000080\n",
       "112508  11-10-13         PATH WTC       8.0      88281.0   0.000091\n",
       "20326   10-06-13           231 ST       1.0       9971.0   0.000100\n",
       "21335   07-14-13           242 ST       1.0       9705.0   0.000103\n",
       "94810   01-13-13     KINGSTON AVE       1.0       8898.0   0.000112\n",
       "81181   08-18-13        GATES AVE       1.0       8337.0   0.000120\n",
       "79973   04-21-13  FRESH POND ROAD       1.0       7529.5   0.000133\n",
       "124952  01-06-13  THIRTY THIRD ST       5.0      37453.0   0.000134\n",
       "135839  02-02-13    KNICKERBOCKER       1.0       7485.5   0.000134\n",
       "136098  10-20-13    KNICKERBOCKER       1.0       7485.5   0.000134\n",
       "56885   04-14-13         BROAD ST       1.0       7483.0   0.000134\n",
       "56955   06-23-13         BROAD ST       1.0       7483.0   0.000134\n",
       "114019  01-06-13  PENNSYLVANIA AV       1.0       6951.0   0.000144\n",
       "135194  03-03-13       FOREST AVE       1.0       6919.0   0.000145\n",
       "78515   04-21-13   FOREST PARKWAY       1.0       6096.5   0.000164\n",
       "81634   11-17-13       GRAHAM AVE       3.0      16332.5   0.000184\n",
       "62700   11-24-13      CENTRAL AVE       1.0       5404.5   0.000185\n",
       "135734  09-15-13      5 AVE-53 ST       9.0      48331.0   0.000186\n",
       "15950   10-06-13           191 ST       3.0      15701.0   0.000191"
      ]
     },
     "execution_count": 32,
     "metadata": {},
     "output_type": "execute_result"
    }
   ],
   "source": [
    "busy_per_day=merge_df.groupby(['DATE','STATION']).BUSYNESS.sum().reset_index(name='BUSYNESS')\n",
    "busy_per_day=busy_per_day[busy_per_day['BUSYNESS']>0]\n",
    "median_per_day=busy_per_day.groupby(['STATION']).BUSYNESS.median().reset_index(name='DAILYMEDIAN')\n",
    "capacity = pd.merge(busy_per_day, median_per_day, on=[\"STATION\"])\n",
    "capacity['PCTMEDIAN']=capacity['BUSYNESS']/capacity['DAILYMEDIAN']\n",
    "capacity=capacity[capacity['BUSYNESS']>0]\n",
    "capacity=capacity[capacity['PCTMEDIAN']<.5]\n",
    "capacity.sort_values(by=['PCTMEDIAN'],ascending=True)[:25]"
   ]
  },
  {
   "cell_type": "markdown",
   "metadata": {},
   "source": [
    "The above dataframe contains all dates/stations where the daily busyness is less than 50% of the daily median busyness for that station. This list could be used to help identify days where a station is not fully utilized. "
   ]
  },
  {
   "cell_type": "markdown",
   "metadata": {},
   "source": [
    "# Bonus:  What hour is the busiest for station CANAL ST in Q1 2013?\n",
    "For this analysis, I took the average and median busyness for each hour audit event at the Canal Street station in Q1 2013. The data is captured in regular audit events that represent 4 hour increments. "
   ]
  },
  {
   "cell_type": "code",
   "execution_count": 33,
   "metadata": {
    "collapsed": true
   },
   "outputs": [],
   "source": [
    "#filter for CANAL and Q1\n",
    "canal_st=merge_df[(merge_df['STATION']=='CANAL ST') & merge_df['DATETIME'].dt.quarter==1]"
   ]
  },
  {
   "cell_type": "code",
   "execution_count": 34,
   "metadata": {
    "collapsed": false
   },
   "outputs": [
    {
     "data": {
      "text/html": [
       "<div>\n",
       "<style scoped>\n",
       "    .dataframe tbody tr th:only-of-type {\n",
       "        vertical-align: middle;\n",
       "    }\n",
       "\n",
       "    .dataframe tbody tr th {\n",
       "        vertical-align: top;\n",
       "    }\n",
       "\n",
       "    .dataframe thead th {\n",
       "        text-align: right;\n",
       "    }\n",
       "</style>\n",
       "<table border=\"1\" class=\"dataframe\">\n",
       "  <thead>\n",
       "    <tr style=\"text-align: right;\">\n",
       "      <th></th>\n",
       "      <th>HOUR</th>\n",
       "      <th>AVGBUSYNESS</th>\n",
       "    </tr>\n",
       "  </thead>\n",
       "  <tbody>\n",
       "    <tr>\n",
       "      <td>19</td>\n",
       "      <td>21</td>\n",
       "      <td>678.014401</td>\n",
       "    </tr>\n",
       "    <tr>\n",
       "      <td>16</td>\n",
       "      <td>17</td>\n",
       "      <td>652.872666</td>\n",
       "    </tr>\n",
       "    <tr>\n",
       "      <td>18</td>\n",
       "      <td>20</td>\n",
       "      <td>646.201229</td>\n",
       "    </tr>\n",
       "    <tr>\n",
       "      <td>17</td>\n",
       "      <td>19</td>\n",
       "      <td>587.469723</td>\n",
       "    </tr>\n",
       "    <tr>\n",
       "      <td>12</td>\n",
       "      <td>13</td>\n",
       "      <td>505.758490</td>\n",
       "    </tr>\n",
       "  </tbody>\n",
       "</table>\n",
       "</div>"
      ],
      "text/plain": [
       "    HOUR  AVGBUSYNESS\n",
       "19    21   678.014401\n",
       "16    17   652.872666\n",
       "18    20   646.201229\n",
       "17    19   587.469723\n",
       "12    13   505.758490"
      ]
     },
     "execution_count": 34,
     "metadata": {},
     "output_type": "execute_result"
    }
   ],
   "source": [
    "#Average per hour \n",
    "canal_st.groupby(['HOUR']).BUSYNESS.mean().reset_index(name='AVGBUSYNESS').sort_values(by=['AVGBUSYNESS'],ascending=False)[:5]"
   ]
  },
  {
   "cell_type": "code",
   "execution_count": 35,
   "metadata": {
    "collapsed": false
   },
   "outputs": [
    {
     "data": {
      "text/html": [
       "<div>\n",
       "<style scoped>\n",
       "    .dataframe tbody tr th:only-of-type {\n",
       "        vertical-align: middle;\n",
       "    }\n",
       "\n",
       "    .dataframe tbody tr th {\n",
       "        vertical-align: top;\n",
       "    }\n",
       "\n",
       "    .dataframe thead th {\n",
       "        text-align: right;\n",
       "    }\n",
       "</style>\n",
       "<table border=\"1\" class=\"dataframe\">\n",
       "  <thead>\n",
       "    <tr style=\"text-align: right;\">\n",
       "      <th></th>\n",
       "      <th>HOUR</th>\n",
       "      <th>MEDIANBUSYNESS</th>\n",
       "    </tr>\n",
       "  </thead>\n",
       "  <tbody>\n",
       "    <tr>\n",
       "      <td>19</td>\n",
       "      <td>21</td>\n",
       "      <td>657.0</td>\n",
       "    </tr>\n",
       "    <tr>\n",
       "      <td>16</td>\n",
       "      <td>17</td>\n",
       "      <td>643.0</td>\n",
       "    </tr>\n",
       "    <tr>\n",
       "      <td>18</td>\n",
       "      <td>20</td>\n",
       "      <td>580.0</td>\n",
       "    </tr>\n",
       "    <tr>\n",
       "      <td>12</td>\n",
       "      <td>13</td>\n",
       "      <td>471.0</td>\n",
       "    </tr>\n",
       "    <tr>\n",
       "      <td>15</td>\n",
       "      <td>16</td>\n",
       "      <td>441.0</td>\n",
       "    </tr>\n",
       "  </tbody>\n",
       "</table>\n",
       "</div>"
      ],
      "text/plain": [
       "    HOUR  MEDIANBUSYNESS\n",
       "19    21           657.0\n",
       "16    17           643.0\n",
       "18    20           580.0\n",
       "12    13           471.0\n",
       "15    16           441.0"
      ]
     },
     "execution_count": 35,
     "metadata": {},
     "output_type": "execute_result"
    }
   ],
   "source": [
    "#Median per hour to understand impact of outliers \n",
    "canal_st.groupby(['HOUR']).BUSYNESS.median().reset_index(name='MEDIANBUSYNESS').sort_values(by=['MEDIANBUSYNESS'],ascending=False)[:5]"
   ]
  },
  {
   "cell_type": "markdown",
   "metadata": {},
   "source": [
    "### Canal Street Answer\n",
    "The busiest hour at Canal Street is from the reading at 21. Assuming this is a 4 hour window, this would represent 5PM-9PM. "
   ]
  }
 ],
 "metadata": {
  "kernelspec": {
   "display_name": "Python 3",
   "language": "python",
   "name": "python3"
  },
  "language_info": {
   "codemirror_mode": {
    "name": "ipython",
    "version": 3
   },
   "file_extension": ".py",
   "mimetype": "text/x-python",
   "name": "python",
   "nbconvert_exporter": "python",
   "pygments_lexer": "ipython3",
   "version": "3.5.1"
  }
 },
 "nbformat": 4,
 "nbformat_minor": 2
}
